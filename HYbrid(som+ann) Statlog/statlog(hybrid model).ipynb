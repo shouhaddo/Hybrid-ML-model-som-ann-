{
 "cells": [
  {
   "cell_type": "code",
   "execution_count": 1,
   "metadata": {},
   "outputs": [],
   "source": [
    "import numpy as np\n",
    "import pandas as pd\n",
    "import matplotlib.pyplot as plt\n",
    "from minisom import MiniSom"
   ]
  },
  {
   "cell_type": "code",
   "execution_count": 2,
   "metadata": {},
   "outputs": [],
   "source": [
    "dataset = pd.read_csv('Credit_Card_Applications.csv')\n",
    "X = dataset.iloc[:, :-1].values \n",
    "y = dataset.iloc[:, -1].values"
   ]
  },
  {
   "cell_type": "code",
   "execution_count": 3,
   "metadata": {},
   "outputs": [],
   "source": [
    "from sklearn.preprocessing import MinMaxScaler\n",
    "sc = MinMaxScaler(feature_range = (0,1))\n",
    "X = sc.fit_transform(X)"
   ]
  },
  {
   "cell_type": "code",
   "execution_count": 32,
   "metadata": {},
   "outputs": [],
   "source": [
    "som = MiniSom(x=10, y=10, input_len= 15, sigma= 1.0, learning_rate = 0.5,decay_function=None,random_seed=112)\n",
    "som.random_weights_init(X)\n"
   ]
  },
  {
   "cell_type": "code",
   "execution_count": 33,
   "metadata": {},
   "outputs": [],
   "source": [
    "som.train_random(data = X, num_iteration =100 )"
   ]
  },
  {
   "cell_type": "code",
   "execution_count": 34,
   "metadata": {},
   "outputs": [
    {
     "data": {
      "image/png": "[encoded data removed]",
      "text/plain": [
       "<Figure size 432x288 with 2 Axes>"
      ]
     },
     "metadata": {
      "needs_background": "light"
     },
     "output_type": "display_data"
    }
   ],
   "source": [
    "from pylab import bone, pcolor, colorbar, plot, show\n",
    "bone()\n",
    "pcolor(som.distance_map().T)\n",
    "colorbar()\n",
    "markers = ['x', 's']\n",
    "colors = ['r', 'g']\n",
    "for i, x in enumerate(X):\n",
    "    w = som.winner(x)\n",
    "    plot(w[0] + 0.5,\n",
    "         w[1] + 0.5,\n",
    "         markers[y[i]],\n",
    "         markeredgecolor = colors[y[i]],\n",
    "         markerfacecolor = 'None',\n",
    "         markersize = 10,\n",
    "         markeredgewidth = 2)\n",
    "         \n",
    "show()"
   ]
  },
  {
   "cell_type": "code",
   "execution_count": 35,
   "metadata": {},
   "outputs": [],
   "source": [
    "mappings = som.win_map(X)\n",
    "frauds = np.concatenate((mappings[(6,7)], mappings[(1,8)]), axis = 0)\n",
    "frauds = sc.inverse_transform(frauds)"
   ]
  },
  {
   "cell_type": "code",
   "execution_count": 36,
   "metadata": {},
   "outputs": [
    {
     "data": {
      "text/plain": [
       "array([[6.96090562e-01, 1.37500000e+01, 3.75578947e+00, 1.50000000e+00,\n",
       "        7.50000000e+00, 5.30769231e+00, 1.06875000e+01, 5.78947368e-03,\n",
       "        0.00000000e+00, 0.00000000e+00, 0.00000000e+00, 1.00000000e+00,\n",
       "        1.00000000e+03, 8.00100000e+03, 0.00000000e+00],\n",
       "       [5.37082197e-01, 1.37500000e+01, 6.07157895e+00, 1.04178571e+00,\n",
       "        7.50000000e+00, 4.07692308e+00, 1.06875000e+01, 1.40350877e-03,\n",
       "        0.00000000e+00, 0.00000000e+00, 0.00000000e+00, 1.00000000e+00,\n",
       "        1.00000000e+03, 1.30010000e+04, 1.00400000e-02],\n",
       "       [5.61424584e-01, 1.37500000e+01, 9.92842105e+00, 1.17857143e+00,\n",
       "        7.50000000e+00, 2.23076923e+00, 2.49375000e+01, 7.36842105e-03,\n",
       "        0.00000000e+00, 0.00000000e+00, 0.00000000e+00, 1.00000000e+00,\n",
       "        1.00000000e+03, 1.30010000e+04, 2.46000000e-03],\n",
       "       [5.64804248e-01, 1.37500000e+01, 1.14021053e+01, 1.25000000e+00,\n",
       "        7.50000000e+00, 2.23076923e+00, 1.42500000e+01, 1.75438596e-02,\n",
       "        0.00000000e+00, 0.00000000e+00, 0.00000000e+00, 1.00000000e+00,\n",
       "        0.00000000e+00, 5.80010000e+04, 0.00000000e+00],\n",
       "       [4.29185237e-01, 1.37500000e+01, 2.03368421e+00, 1.71428571e+00,\n",
       "        7.50000000e+00, 1.61538462e+00, 1.06875000e+01, 1.45614035e-02,\n",
       "        0.00000000e+00, 0.00000000e+00, 0.00000000e+00, 1.00000000e+00,\n",
       "        1.00000000e+03, 4.00100000e+03, 4.20000000e-04],\n",
       "       [8.73623007e-01, 1.37500000e+01, 1.05978947e+01, 1.11892857e+00,\n",
       "        7.50000000e+00, 4.07692308e+00, 1.06875000e+01, 8.77192982e-03,\n",
       "        0.00000000e+00, 0.00000000e+00, 0.00000000e+00, 1.00000000e+00,\n",
       "        1.00000000e+03, 1.00000000e+00, 3.90000000e-03],\n",
       "       [7.64124311e-01, 1.37500000e+01, 1.06652632e+01, 1.28571429e+00,\n",
       "        7.50000000e+00, 5.30769231e+00, 1.06875000e+01, 1.05263158e-01,\n",
       "        0.00000000e+00, 0.00000000e+00, 0.00000000e+00, 1.00000000e+00,\n",
       "        1.00000000e+03, 2.40010000e+04, 0.00000000e+00],\n",
       "       [3.44989969e-01, 1.37500000e+01, 1.05263158e+01, 1.10714286e+00,\n",
       "        7.50000000e+00, 1.00000000e+00, 0.00000000e+00, 0.00000000e+00,\n",
       "        0.00000000e+00, 0.00000000e+00, 0.00000000e+00, 1.00000000e+00,\n",
       "        1.00000000e+03, 3.80100000e+03, 0.00000000e+00],\n",
       "       [9.44059360e-01, 1.37500000e+01, 2.98105263e+00, 1.03571429e+00,\n",
       "        1.00000000e+00, 6.53846154e+00, 3.56250000e+00, 3.50877193e-02,\n",
       "        0.00000000e+00, 0.00000000e+00, 0.00000000e+00, 1.00000000e+00,\n",
       "        1.00000000e+03, 1.30010000e+04, 0.00000000e+00],\n",
       "       [6.51942706e-01, 1.37500000e+01, 1.03494737e+01, 1.31535714e+00,\n",
       "        7.50000000e+00, 5.30769231e+00, 1.06875000e+01, 4.38596491e-03,\n",
       "        0.00000000e+00, 0.00000000e+00, 0.00000000e+00, 1.00000000e+00,\n",
       "        1.00000000e+03, 8.00100000e+03, 0.00000000e+00],\n",
       "       [6.02124703e-01, 1.37500000e+01, 3.57894737e+00, 1.08928571e+00,\n",
       "        1.00000000e+00, 1.00000000e+00, 0.00000000e+00, 1.14035088e-01,\n",
       "        0.00000000e+00, 0.00000000e+00, 0.00000000e+00, 1.00000000e+00,\n",
       "        1.00000000e+03, 1.40010000e+04, 0.00000000e+00],\n",
       "       [3.43356198e-01, 1.37500000e+01, 2.34736842e+01, 1.42857143e+00,\n",
       "        7.50000000e+00, 1.00000000e+00, 0.00000000e+00, 0.00000000e+00,\n",
       "        0.00000000e+00, 0.00000000e+00, 0.00000000e+00, 1.00000000e+00,\n",
       "        0.00000000e+00, 1.00000000e+00, 0.00000000e+00],\n",
       "       [4.41326398e-01, 1.37500000e+01, 2.28210526e+00, 1.38678571e+00,\n",
       "        7.50000000e+00, 2.23076923e+00, 2.49375000e+01, 1.01754386e-02,\n",
       "        0.00000000e+00, 0.00000000e+00, 0.00000000e+00, 1.00000000e+00,\n",
       "        1.00000000e+03, 4.00100000e+03, 4.84000000e-03],\n",
       "       [4.28156121e-01, 1.37500000e+01, 9.68421053e+00, 1.33642857e+00,\n",
       "        7.50000000e+00, 1.00000000e+00, 0.00000000e+00, 0.00000000e+00,\n",
       "        0.00000000e+00, 0.00000000e+00, 0.00000000e+00, 1.00000000e+00,\n",
       "        1.00000000e+03, 8.00100000e+03, 0.00000000e+00],\n",
       "       [9.14951808e-01, 1.37500000e+01, 2.45473684e+00, 1.04750000e+00,\n",
       "        7.50000000e+00, 5.92307692e+00, 1.06875000e+01, 5.84210526e-02,\n",
       "        0.00000000e+00, 0.00000000e+00, 0.00000000e+00, 1.00000000e+00,\n",
       "        1.00000000e+03, 1.10010000e+04, 5.00000000e-05],\n",
       "       [6.73906515e-01, 1.37500000e+01, 8.42105263e-01, 1.02678571e+00,\n",
       "        7.50000000e+00, 5.30769231e+00, 1.06875000e+01, 3.50877193e-02,\n",
       "        0.00000000e+00, 0.00000000e+00, 0.00000000e+00, 1.00000000e+00,\n",
       "        1.00000000e+03, 6.00100000e+03, 1.80000000e-04],\n",
       "       [7.67712200e-01, 1.37500000e+01, 4.98105263e+00, 1.00000000e+00,\n",
       "        7.50000000e+00, 5.30769231e+00, 1.06875000e+01, 0.00000000e+00,\n",
       "        0.00000000e+00, 0.00000000e+00, 0.00000000e+00, 1.00000000e+00,\n",
       "        2.00000000e+03, 9.20100000e+03, 0.00000000e+00],\n",
       "       [8.16220783e-01, 1.37500000e+01, 7.68421053e+00, 1.42857143e+00,\n",
       "        7.50000000e+00, 1.61538462e+00, 1.06875000e+01, 4.38596491e-02,\n",
       "        0.00000000e+00, 0.00000000e+00, 0.00000000e+00, 1.00000000e+00,\n",
       "        1.00000000e+03, 1.36010000e+04, 0.00000000e+00],\n",
       "       [7.05945245e-01, 1.37500000e+01, 8.21052632e+00, 1.21428571e+00,\n",
       "        1.00000000e+00, 4.07692308e+00, 1.06875000e+01, 7.01754386e-02,\n",
       "        0.00000000e+00, 0.00000000e+00, 0.00000000e+00, 1.00000000e+00,\n",
       "        1.00000000e+03, 9.00100000e+03, 0.00000000e+00],\n",
       "       [7.47330106e-01, 1.37500000e+01, 3.08631579e+00, 1.35714286e+00,\n",
       "        1.00000000e+00, 1.00000000e+00, 0.00000000e+00, 0.00000000e+00,\n",
       "        0.00000000e+00, 0.00000000e+00, 0.00000000e+00, 1.00000000e+00,\n",
       "        1.00000000e+03, 1.00000000e+00, 0.00000000e+00],\n",
       "       [6.84017475e-01, 1.37500000e+01, 7.50315789e+00, 1.80357143e+00,\n",
       "        7.50000000e+00, 1.00000000e+00, 0.00000000e+00, 0.00000000e+00,\n",
       "        0.00000000e+00, 0.00000000e+00, 0.00000000e+00, 1.00000000e+00,\n",
       "        1.00000000e+03, 9.20100000e+03, 5.20000000e-02],\n",
       "       [1.12602061e-01, 1.37500000e+01, 1.08631579e+00, 1.01500000e+00,\n",
       "        7.50000000e+00, 4.07692308e+00, 1.06875000e+01, 4.38596491e-03,\n",
       "        0.00000000e+00, 0.00000000e+00, 0.00000000e+00, 1.00000000e+00,\n",
       "        1.00000000e+03, 1.00010000e+04, 1.00000000e-05],\n",
       "       [4.33241634e-01, 1.37500000e+01, 2.43494737e+01, 1.00000000e+00,\n",
       "        7.50000000e+00, 5.30769231e+00, 1.06875000e+01, 0.00000000e+00,\n",
       "        0.00000000e+00, 0.00000000e+00, 0.00000000e+00, 1.00000000e+00,\n",
       "        2.00000000e+03, 9.20100000e+03, 0.00000000e+00],\n",
       "       [6.89527448e-01, 1.37500000e+01, 2.98105263e+00, 1.60714286e+00,\n",
       "        7.50000000e+00, 5.30769231e+00, 1.06875000e+01, 5.78947368e-03,\n",
       "        0.00000000e+00, 0.00000000e+00, 0.00000000e+00, 1.00000000e+00,\n",
       "        1.00000000e+03, 1.00000000e+00, 3.51000000e-03],\n",
       "       [3.79667560e-01, 1.37500000e+01, 3.44000000e+00, 1.83321429e+00,\n",
       "        7.50000000e+00, 2.84615385e+00, 2.49375000e+01, 2.98245614e-03,\n",
       "        0.00000000e+00, 0.00000000e+00, 0.00000000e+00, 1.00000000e+00,\n",
       "        1.00000000e+03, 1.60010000e+04, 5.00000000e-05],\n",
       "       [8.54898710e-01, 1.37500000e+01, 5.71789474e+00, 1.11892857e+00,\n",
       "        7.50000000e+00, 1.00000000e+00, 0.00000000e+00, 0.00000000e+00,\n",
       "        0.00000000e+00, 0.00000000e+00, 0.00000000e+00, 1.00000000e+00,\n",
       "        1.00000000e+03, 1.70010000e+04, 1.00000000e-05],\n",
       "       [1.82978349e-01, 1.37500000e+01, 4.13894737e+00, 1.04178571e+00,\n",
       "        1.00000000e+00, 1.00000000e+00, 0.00000000e+00, 4.38596491e-03,\n",
       "        0.00000000e+00, 0.00000000e+00, 0.00000000e+00, 1.00000000e+00,\n",
       "        1.00000000e+03, 6.00100000e+03, 8.70000000e-04],\n",
       "       [1.77284176e-01, 1.37500000e+01, 3.75578947e+00, 1.05642857e+00,\n",
       "        7.50000000e+00, 2.23076923e+00, 1.06875000e+01, 2.98245614e-03,\n",
       "        0.00000000e+00, 0.00000000e+00, 0.00000000e+00, 1.00000000e+00,\n",
       "        1.00000000e+03, 7.20100000e+03, 0.00000000e+00],\n",
       "       [7.48267122e-01, 1.37500000e+01, 1.17178947e+01, 1.07428571e+00,\n",
       "        7.50000000e+00, 4.07692308e+00, 1.06875000e+01, 2.33333333e-02,\n",
       "        0.00000000e+00, 0.00000000e+00, 0.00000000e+00, 1.00000000e+00,\n",
       "        1.00000000e+03, 1.20010000e+04, 2.37000000e-03],\n",
       "       [4.01963729e-01, 1.37500000e+01, 1.63157895e+01, 1.50000000e+00,\n",
       "        7.50000000e+00, 4.07692308e+00, 2.49375000e+01, 1.05263158e-01,\n",
       "        0.00000000e+00, 0.00000000e+00, 0.00000000e+00, 1.00000000e+00,\n",
       "        1.00000000e+03, 1.00000000e+00, 0.00000000e+00],\n",
       "       [1.76367182e-01, 1.37500000e+01, 2.94736842e+00, 1.68142857e+00,\n",
       "        7.50000000e+00, 2.23076923e+00, 1.06875000e+01, 1.40350877e-03,\n",
       "        0.00000000e+00, 0.00000000e+00, 0.00000000e+00, 1.00000000e+00,\n",
       "        1.00000000e+03, 1.00010000e+04, 1.00000000e-02],\n",
       "       [2.83267061e-01, 1.37500000e+01, 1.61768421e+01, 1.00000000e+00,\n",
       "        1.00000000e+00, 1.00000000e+00, 0.00000000e+00, 0.00000000e+00,\n",
       "        0.00000000e+00, 0.00000000e+00, 0.00000000e+00, 1.00000000e+00,\n",
       "        1.00000000e+03, 1.00000000e+00, 0.00000000e+00],\n",
       "       [1.72995527e-01, 1.37500000e+01, 1.65052632e+00, 1.00000000e+00,\n",
       "        1.00000000e+00, 3.46153846e+00, 0.00000000e+00, 0.00000000e+00,\n",
       "        0.00000000e+00, 0.00000000e+00, 0.00000000e+00, 1.00000000e+00,\n",
       "        1.00000000e+03, 4.30100000e+03, 0.00000000e+00],\n",
       "       [1.98543221e-01, 1.37500000e+01, 1.75578947e+00, 1.72928571e+00,\n",
       "        7.50000000e+00, 1.00000000e+00, 0.00000000e+00, 0.00000000e+00,\n",
       "        0.00000000e+00, 0.00000000e+00, 0.00000000e+00, 1.00000000e+00,\n",
       "        1.00000000e+03, 1.00000000e+00, 5.00000000e-04],\n",
       "       [2.10404078e-01, 1.37500000e+01, 3.78947368e+00, 1.44035714e+00,\n",
       "        7.50000000e+00, 4.07692308e+00, 1.06875000e+01, 5.78947368e-03,\n",
       "        0.00000000e+00, 0.00000000e+00, 0.00000000e+00, 1.00000000e+00,\n",
       "        1.00000000e+03, 1.10010000e+04, 1.00000000e-02],\n",
       "       [9.59227803e-01, 1.37500000e+01, 1.44926316e+01, 1.09535714e+00,\n",
       "        7.50000000e+00, 2.23076923e+00, 2.13750000e+01, 1.17543860e-02,\n",
       "        0.00000000e+00, 0.00000000e+00, 0.00000000e+00, 1.00000000e+00,\n",
       "        1.00000000e+03, 1.00000000e+00, 1.20000000e-03],\n",
       "       [2.35779585e-01, 1.37500000e+01, 3.65052632e+00, 1.80357143e+00,\n",
       "        1.00000000e+00, 9.00000000e+00, 2.49375000e+01, 2.63157895e-02,\n",
       "        1.00000000e+00, 6.70000000e+01, 5.97014925e-02, 1.00000000e+00,\n",
       "        1.00000000e+03, 1.00000000e+00, 3.21000000e-03],\n",
       "       [9.18455606e-01, 1.37500000e+01, 2.28210526e+00, 1.61321429e+00,\n",
       "        7.50000000e+00, 8.38461538e+00, 2.49375000e+01, 2.63157895e-02,\n",
       "        1.00000000e+00, 6.70000000e+01, 1.04477612e-01, 1.00000000e+00,\n",
       "        1.00000000e+03, 4.80100000e+03, 0.00000000e+00],\n",
       "       [8.51446969e-01, 1.37500000e+01, 1.71789474e+00, 1.78571429e+00,\n",
       "        7.50000000e+00, 9.00000000e+00, 2.49375000e+01, 3.50877193e-02,\n",
       "        1.00000000e+00, 6.70000000e+01, 1.64179104e-01, 1.00000000e+00,\n",
       "        1.00000000e+03, 1.00000000e+00, 3.00000000e-02],\n",
       "       [5.39773114e-01, 1.37500000e+01, 6.21052632e+00, 1.21714286e+00,\n",
       "        1.00000000e+00, 9.00000000e+00, 2.49375000e+01, 8.91228070e-02,\n",
       "        1.00000000e+00, 6.70000000e+01, 1.49253731e-02, 1.00000000e+00,\n",
       "        1.00000000e+03, 3.50100000e+03, 0.00000000e+00],\n",
       "       [8.44034934e-01, 1.37500000e+01, 5.75578947e+00, 2.03571429e+00,\n",
       "        7.50000000e+00, 9.00000000e+00, 2.49375000e+01, 1.08245614e-01,\n",
       "        1.00000000e+00, 6.70000000e+01, 1.49253731e-02, 1.00000000e+00,\n",
       "        1.00000000e+03, 6.00100000e+03, 1.10000000e-04]])"
      ]
     },
     "execution_count": 36,
     "metadata": {},
     "output_type": "execute_result"
    }
   ],
   "source": [
    "frauds"
   ]
  },
  {
   "cell_type": "code",
   "execution_count": 37,
   "metadata": {},
   "outputs": [
    {
     "name": "stdout",
     "output_type": "stream",
     "text": [
      "Fraud Customer IDs\n",
      "0\n",
      "0\n",
      "0\n",
      "0\n",
      "0\n",
      "0\n",
      "0\n",
      "0\n",
      "0\n",
      "0\n",
      "0\n",
      "0\n",
      "0\n",
      "0\n",
      "0\n",
      "0\n",
      "0\n",
      "0\n",
      "0\n",
      "0\n",
      "0\n",
      "0\n",
      "0\n",
      "0\n",
      "0\n",
      "0\n",
      "0\n",
      "0\n",
      "0\n",
      "0\n",
      "0\n",
      "0\n",
      "0\n",
      "0\n",
      "0\n",
      "0\n",
      "0\n",
      "0\n",
      "0\n",
      "0\n",
      "0\n"
     ]
    }
   ],
   "source": [
    "print('Fraud Customer IDs')\n",
    "for i in frauds[:, 0]:\n",
    "  print(int(i))"
   ]
  },
  {
   "cell_type": "code",
   "execution_count": 10,
   "metadata": {},
   "outputs": [],
   "source": [
    "customers = dataset.iloc[:, 1:].values"
   ]
  },
  {
   "cell_type": "code",
   "execution_count": 11,
   "metadata": {},
   "outputs": [],
   "source": [
    "is_fraud = np.zeros(len(dataset))\n",
    "for i in range(len(dataset)):\n",
    "  if dataset.iloc[i,0] in frauds:\n",
    "    is_fraud[i] = 1"
   ]
  },
  {
   "cell_type": "code",
   "execution_count": 12,
   "metadata": {},
   "outputs": [],
   "source": [
    "\n",
    "customers = sc.fit_transform(customers)"
   ]
  },
  {
   "cell_type": "code",
   "execution_count": 13,
   "metadata": {},
   "outputs": [],
   "source": [
    "import tensorflow as tf"
   ]
  },
  {
   "cell_type": "code",
   "execution_count": 14,
   "metadata": {},
   "outputs": [],
   "source": [
    "ann = tf.keras.models.Sequential()"
   ]
  },
  {
   "cell_type": "code",
   "execution_count": 15,
   "metadata": {},
   "outputs": [],
   "source": [
    "ann.add(tf.keras.layers.Dense(units=3, activation='relu'))\n",
    "ann.add(tf.keras.layers.Dense(units=1, activation='sigmoid'))"
   ]
  },
  {
   "cell_type": "code",
   "execution_count": 16,
   "metadata": {},
   "outputs": [],
   "source": [
    "ann.compile(optimizer = 'adam', loss = 'binary_crossentropy', metrics = ['accuracy'])"
   ]
  },
  {
   "cell_type": "code",
   "execution_count": 17,
   "metadata": {},
   "outputs": [
    {
     "name": "stdout",
     "output_type": "stream",
     "text": [
      "Epoch 1/10\n",
      "345/345 [==============================] - 1s 2ms/step - loss: 0.3346 - accuracy: 0.9188\n",
      "Epoch 2/10\n",
      "345/345 [==============================] - 0s 1ms/step - loss: 0.1993 - accuracy: 0.9377\n",
      "Epoch 3/10\n",
      "345/345 [==============================] - 1s 2ms/step - loss: 0.1804 - accuracy: 0.9377\n",
      "Epoch 4/10\n",
      "345/345 [==============================] - 0s 1ms/step - loss: 0.1726 - accuracy: 0.9377\n",
      "Epoch 5/10\n",
      "345/345 [==============================] - 0s 1ms/step - loss: 0.1663 - accuracy: 0.9377\n",
      "Epoch 6/10\n",
      "345/345 [==============================] - 0s 1ms/step - loss: 0.1608 - accuracy: 0.9377\n",
      "Epoch 7/10\n",
      "345/345 [==============================] - 1s 1ms/step - loss: 0.1551 - accuracy: 0.9377\n",
      "Epoch 8/10\n",
      "345/345 [==============================] - 1s 2ms/step - loss: 0.1498 - accuracy: 0.9377\n",
      "Epoch 9/10\n",
      "345/345 [==============================] - 1s 2ms/step - loss: 0.1444 - accuracy: 0.9377\n",
      "Epoch 10/10\n",
      "345/345 [==============================] - 1s 2ms/step - loss: 0.1395 - accuracy: 0.9377\n"
     ]
    },
    {
     "data": {
      "text/plain": [
       "<tensorflow.python.keras.callbacks.History at 0x1cd3dbb0548>"
      ]
     },
     "execution_count": 17,
     "metadata": {},
     "output_type": "execute_result"
    }
   ],
   "source": [
    "ann.fit(customers, is_fraud, batch_size = 2, epochs = 10)"
   ]
  },
  {
   "cell_type": "code",
   "execution_count": 18,
   "metadata": {},
   "outputs": [],
   "source": [
    "pred = ann.predict(customers)"
   ]
  },
  {
   "cell_type": "code",
   "execution_count": 19,
   "metadata": {},
   "outputs": [],
   "source": [
    "pred = np.concatenate((dataset.iloc[:, 0:1].values,pred), axis = 1)"
   ]
  },
  {
   "cell_type": "code",
   "execution_count": 20,
   "metadata": {},
   "outputs": [],
   "source": [
    "pred = pred[pred[:, 1].argsort()]"
   ]
  },
  {
   "cell_type": "code",
   "execution_count": 21,
   "metadata": {},
   "outputs": [
    {
     "data": {
      "text/plain": [
       "array([[1.57250280e+07, 3.00914049e-04],\n",
       "       [1.56548590e+07, 3.24606895e-04],\n",
       "       [1.55664950e+07, 3.41475010e-04],\n",
       "       ...,\n",
       "       [1.56152960e+07, 3.81563663e-01],\n",
       "       [1.57523440e+07, 3.94174159e-01],\n",
       "       [1.56514600e+07, 4.20340121e-01]])"
      ]
     },
     "execution_count": 21,
     "metadata": {},
     "output_type": "execute_result"
    }
   ],
   "source": [
    "pred"
   ]
  },
  {
   "cell_type": "code",
   "execution_count": null,
   "metadata": {},
   "outputs": [],
   "source": []
  }
 ],
 "metadata": {
  "kernelspec": {
   "display_name": "Python 3",
   "language": "python",
   "name": "python3"
  },
  "language_info": {
   "codemirror_mode": {
    "name": "ipython",
    "version": 3
   },
   "file_extension": ".py",
   "mimetype": "text/x-python",
   "name": "python",
   "nbconvert_exporter": "python",
   "pygments_lexer": "ipython3",
   "version": "3.7.4"
  }
 },
 "nbformat": 4,
 "nbformat_minor": 2
}
